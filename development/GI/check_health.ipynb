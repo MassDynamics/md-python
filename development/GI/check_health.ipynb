{
 "cells": [
  {
   "cell_type": "code",
   "execution_count": null,
   "id": "0",
   "metadata": {},
   "outputs": [],
   "source": [
    "# import os\n",
    "from IPython.display import JSON, display\n",
    "\n",
    "from md_python import MDClient\n",
    "\n",
    "\n",
    "\n",
    "client = MDClient()\n",
    "health = client.health.check()\n",
    "\n",
    "# Run and minimally test\n",
    "assert isinstance(health, dict)\n",
    "display(JSON(health, expanded=True))\n"
   ]
  },
  {
   "cell_type": "code",
   "execution_count": null,
   "id": "1",
   "metadata": {},
   "outputs": [],
   "source": [
    "from md_python import MDClient, Experiment\n",
    "\n",
    "def create_experiment_min(client: MDClient, name: str, s3_bucket: str, s3_prefix: str) -> str:\n",
    "    exp = Experiment(\n",
    "        name=name,\n",
    "        source=\"diann_tabular\",\n",
    "        s3_bucket=s3_bucket,\n",
    "        s3_prefix=s3_prefix,\n",
    "        filenames=[\"HE_report.log.txt\", \"HE_report.pg_matrix.tsv\", \"HE_report.pr_matrix.tsv\"],\n",
    "    )\n",
    "    return client.experiments.create(exp)\n",
    "\n",
    "# Usage + minimal test\n",
    "client = MDClient()  # uses MD_API_BASE_URL and MD_AUTH_TOKEN from your .env\n",
    "experiment_id = create_experiment_min(\n",
    "    client,\n",
    "    name=\"api user experiment - notebook\",\n",
    "    s3_bucket=\"md-development-test-data\",\n",
    "    s3_prefix=\"bs\",\n",
    ")\n",
    "print(experiment_id)\n",
    "assert isinstance(experiment_id, str) and len(experiment_id) > 0"
   ]
  },
  {
   "cell_type": "code",
   "execution_count": null,
   "id": "2",
   "metadata": {},
   "outputs": [],
   "source": []
  },
  {
   "cell_type": "code",
   "execution_count": null,
   "id": "3",
   "metadata": {},
   "outputs": [],
   "source": []
  },
  {
   "cell_type": "code",
   "execution_count": null,
   "id": "4",
   "metadata": {},
   "outputs": [],
   "source": []
  },
  {
   "cell_type": "code",
   "execution_count": null,
   "id": "5",
   "metadata": {},
   "outputs": [],
   "source": []
  }
 ],
 "metadata": {
  "kernelspec": {
   "display_name": "md-api-python",
   "language": "python",
   "name": "python3"
  },
  "language_info": {
   "codemirror_mode": {
    "name": "ipython",
    "version": 3
   },
   "file_extension": ".py",
   "mimetype": "text/x-python",
   "name": "python",
   "nbconvert_exporter": "python",
   "pygments_lexer": "ipython3",
   "version": "3.13.7"
  }
 },
 "nbformat": 4,
 "nbformat_minor": 5
}
