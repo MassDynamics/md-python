{
 "cells": [
  {
   "cell_type": "code",
   "execution_count": null,
   "id": "0",
   "metadata": {},
   "outputs": [],
   "source": [
    "import os\n",
    "from IPython.display import JSON, display\n",
    "from typing import Optional, List, Dict, Any\n",
    "\n",
    "\n",
    "from md_python import MDClient, Experiment\n",
    "from md_python import ExperimentDesign, SampleMetadata\n",
    "\n",
    "from md_python import PairwiseComparisonDataset\n",
    "\n",
    "from dotenv import load_dotenv\n",
    "load_dotenv()\n",
    "\n",
    "client = MDClient()\n",
    "health = client.health.check()\n",
    "\n",
    "# Run and minimally test\n",
    "assert isinstance(health, dict)\n",
    "display(JSON(health, expanded=True))\n"
   ]
  },
  {
   "cell_type": "markdown",
   "id": "1",
   "metadata": {},
   "source": [
    "## Parameters blocks\n",
    "\n",
    "#### Experiment parameters\n",
    "\n"
   ]
  },
  {
   "cell_type": "code",
   "execution_count": null,
   "id": "2",
   "metadata": {},
   "outputs": [],
   "source": [
    "\n",
    "uploaded_dataset_name = \"test_api_e2e_script_3\" # this is the name of the uploaded dataset from Spectronaut data\n",
    "source = \"md_format\" \n",
    "labelling_method = \"lfq\"\n",
    "s3_bucket =  os.getenv(\"MD_S3_BUCKET\") if os.getenv(\"MD_S3_BUCKET\") else \"s3_bucket\"\n",
    "s3_prefix = os.getenv(\"MD_S3_KEY\") if os.getenv(\"MD_S3_KEY\") else \"s3_prefix/\" # keep the trailing slash!!!\n"
   ]
  },
  {
   "cell_type": "markdown",
   "id": "3",
   "metadata": {},
   "source": [
    "#### Cunstom Workflow parameters\n"
   ]
  },
  {
   "cell_type": "markdown",
   "id": "4",
   "metadata": {},
   "source": [
    "#### Pairwise comparison parameters\n",
    "\n"
   ]
  },
  {
   "cell_type": "code",
   "execution_count": null,
   "id": "5",
   "metadata": {},
   "outputs": [],
   "source": [
    "sample_metadata_column = \"condition\" # the column in the sample metadata that contains the conditions to be compared\n",
    "control_condition = \"md00001_a\" # the condition to be used as control\n",
    "\n",
    "pairwise_dataset_name = \"Pairwise_e2e_script-05\"\n",
    "\n",
    "# Otther parameters\n"
   ]
  },
  {
   "cell_type": "markdown",
   "id": "6",
   "metadata": {},
   "source": [
    "## Metadata files\n",
    "\n",
    "Metadata files must be stored in a local directory.\n",
    "For LFQ experiments, the experiment design and sample metadata can be combined into a single file, provided that the columns \"filename\", \"sample_name\", and \"condition\" are included.\n",
    "\n",
    "The files_to_upload variable is a list of files that have already been uploaded to s3_bucket/s3_key/ and are expected to be picked up by the API. These files typically include the Spectronaut output."
   ]
  },
  {
   "cell_type": "code",
   "execution_count": null,
   "id": "7",
   "metadata": {},
   "outputs": [],
   "source": [
    "metadata_path = \"/Users/giuseppeinfusini/wd/Data_for_upload_md/MD-format/Small_data\"\n",
    "experiment_design_filename = \"experiment_design_COMBINED.csv\"\n",
    "sample_metadata_filename = \"experiment_design_COMBINED.csv\"\n",
    "\n",
    "# S3 bucket files\n",
    "files_to_upload = [\n",
    "    \"proteomics_proteins_COMBINED.tsv\",\n",
    "    \"proteomics_peptides_COMBINED.tsv\",\n",
    "]"
   ]
  },
  {
   "cell_type": "code",
   "execution_count": null,
   "id": "8",
   "metadata": {},
   "outputs": [],
   "source": [
    "\n",
    "def load_experiment_design(dir_path: str, filename: str, delimiter: str = \",\") -> ExperimentDesign:\n",
    "    \"\"\"Load ExperimentDesign from a CSV located at dir_path/filename.\"\"\"\n",
    "    return ExperimentDesign.from_csv(os.path.join(dir_path, filename), delimiter=delimiter)\n",
    "\n",
    "def load_sample_metadata(dir_path: str, filename: str, delimiter: str = \",\") -> SampleMetadata:\n",
    "    return SampleMetadata.from_csv(os.path.join(dir_path, filename), delimiter=delimiter)\n",
    "\n",
    "exp_design = load_experiment_design(metadata_path, experiment_design_filename)\n",
    "sample_metadata = load_sample_metadata(metadata_path, sample_metadata_filename)\n",
    "assert isinstance(exp_design, ExperimentDesign)\n",
    "print(exp_design)  # brief preview via __str__\n",
    "assert isinstance(sample_metadata, SampleMetadata)\n",
    "print(sample_metadata)  # brief preview via __str__"
   ]
  },
  {
   "cell_type": "markdown",
   "id": "9",
   "metadata": {},
   "source": [
    "## Create experiment"
   ]
  },
  {
   "cell_type": "code",
   "execution_count": null,
   "id": "10",
   "metadata": {},
   "outputs": [],
   "source": [
    "exp = Experiment(\n",
    "    name=uploaded_dataset_name,\n",
    "    source=source,\n",
    "    labelling_method=labelling_method,\n",
    "    s3_bucket=s3_bucket,\n",
    "    s3_prefix=s3_prefix,\n",
    "    filenames=files_to_upload,\n",
    "    experiment_design=exp_design,\n",
    "    sample_metadata=sample_metadata,\n",
    ")\n",
    "\n",
    "# experiment_id = client.experiments.create(exp)\n",
    "# print(experiment_id)\n",
    "# assert isinstance(experiment_id, str) and len(experiment_id) > 0\n"
   ]
  },
  {
   "cell_type": "code",
   "execution_count": null,
   "id": "11",
   "metadata": {},
   "outputs": [],
   "source": [
    "exp_design"
   ]
  },
  {
   "cell_type": "code",
   "execution_count": null,
   "id": "12",
   "metadata": {},
   "outputs": [],
   "source": [
    "experiment_id = \"5de39b17-fe8b-4924-ab12-95a74943c223\""
   ]
  },
  {
   "cell_type": "markdown",
   "id": "13",
   "metadata": {},
   "source": [
    "## Wait for experiment to complete"
   ]
  },
  {
   "cell_type": "code",
   "execution_count": null,
   "id": "14",
   "metadata": {},
   "outputs": [],
   "source": [
    "completed_experiment = client.experiments.wait_until_complete(experiment_id)"
   ]
  },
  {
   "cell_type": "markdown",
   "id": "15",
   "metadata": {},
   "source": [
    "## Pairwise comparison\n"
   ]
  },
  {
   "cell_type": "markdown",
   "id": "16",
   "metadata": {},
   "source": [
    "#### Find the initial intensity dataset."
   ]
  },
  {
   "cell_type": "code",
   "execution_count": null,
   "id": "17",
   "metadata": {},
   "outputs": [],
   "source": [
    "dataset = client.datasets.find_initial_dataset(experiment_id)\n",
    "dataset"
   ]
  },
  {
   "cell_type": "markdown",
   "id": "18",
   "metadata": {},
   "source": [
    "\n"
   ]
  },
  {
   "cell_type": "markdown",
   "id": "19",
   "metadata": {},
   "source": [
    "#### Define pairwise comparisons by selecting a control.\n"
   ]
  },
  {
   "cell_type": "code",
   "execution_count": null,
   "id": "20",
   "metadata": {},
   "outputs": [],
   "source": [
    "comparisons = sample_metadata.pairwise_vs_control(column=sample_metadata_column, control=control_condition)\n",
    "comparisons\n"
   ]
  },
  {
   "cell_type": "code",
   "execution_count": null,
   "id": "21",
   "metadata": {},
   "outputs": [],
   "source": [
    "print(PairwiseComparisonDataset.help())"
   ]
  },
  {
   "cell_type": "code",
   "execution_count": null,
   "id": "22",
   "metadata": {},
   "outputs": [],
   "source": [
    "pw = PairwiseComparisonDataset(\n",
    "    input_dataset_ids=[str(dataset.id)],\n",
    "    dataset_name=pairwise_dataset_name,\n",
    "    sample_metadata=sample_metadata,\n",
    "    condition_column=sample_metadata_column,\n",
    "    condition_comparisons=comparisons,\n",
    "    control_variables={'control_variables': [{\"column\": \"dose\", \"type\": \"numerical\"}]}\n",
    ")\n",
    "dataset_id = pw.run(client)"
   ]
  },
  {
   "cell_type": "markdown",
   "id": "23",
   "metadata": {},
   "source": []
  },
  {
   "cell_type": "code",
   "execution_count": null,
   "id": "24",
   "metadata": {},
   "outputs": [],
   "source": [
    "dataset_id"
   ]
  },
  {
   "cell_type": "code",
   "execution_count": null,
   "id": "25",
   "metadata": {},
   "outputs": [],
   "source": [
    "state = client.datasets.wait_until_complete(\n",
    "    experiment_id=experiment_id,\n",
    "    dataset_id=dataset_id,\n",
    ")\n",
    "state"
   ]
  },
  {
   "cell_type": "code",
   "execution_count": null,
   "id": "26",
   "metadata": {},
   "outputs": [],
   "source": []
  },
  {
   "cell_type": "code",
   "execution_count": null,
   "id": "27",
   "metadata": {},
   "outputs": [],
   "source": []
  },
  {
   "cell_type": "code",
   "execution_count": null,
   "id": "28",
   "metadata": {},
   "outputs": [],
   "source": []
  },
  {
   "cell_type": "code",
   "execution_count": null,
   "id": "29",
   "metadata": {},
   "outputs": [],
   "source": []
  },
  {
   "cell_type": "code",
   "execution_count": null,
   "id": "30",
   "metadata": {},
   "outputs": [],
   "source": []
  },
  {
   "cell_type": "code",
   "execution_count": null,
   "id": "31",
   "metadata": {},
   "outputs": [],
   "source": []
  },
  {
   "cell_type": "code",
   "execution_count": null,
   "id": "32",
   "metadata": {},
   "outputs": [],
   "source": []
  }
 ],
 "metadata": {
  "kernelspec": {
   "display_name": "md-api-python",
   "language": "python",
   "name": "python3"
  },
  "language_info": {
   "codemirror_mode": {
    "name": "ipython",
    "version": 3
   },
   "file_extension": ".py",
   "mimetype": "text/x-python",
   "name": "python",
   "nbconvert_exporter": "python",
   "pygments_lexer": "ipython3",
   "version": "3.13.7"
  }
 },
 "nbformat": 4,
 "nbformat_minor": 5
}
